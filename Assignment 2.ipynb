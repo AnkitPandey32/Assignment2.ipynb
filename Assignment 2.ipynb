{
 "cells": [
  {
   "cell_type": "code",
   "execution_count": 2,
   "id": "9e99e8d0-a156-4d23-89b1-c3cfe948a081",
   "metadata": {},
   "outputs": [
    {
     "name": "stdout",
     "output_type": "stream",
     "text": [
      "hello ankit pandey\n"
     ]
    }
   ],
   "source": [
    "# There are two types of comments in Python\n",
    "\n",
    "print('hello', 'ankit', 'pandey')\n",
    "\n",
    "# This is a single-line comment"
   ]
  },
  {
   "cell_type": "code",
   "execution_count": 3,
   "id": "bf06668b-586b-44c3-927b-92f4add97fae",
   "metadata": {},
   "outputs": [
    {
     "name": "stdout",
     "output_type": "stream",
     "text": [
      "i am learning python from PW\n"
     ]
    }
   ],
   "source": [
    "# ther are multi-line comments\n",
    "# use below function to write it down\n",
    "# or you cane use \"\"\" or ''' to write down multipule comments in this\n",
    "\n",
    "print('i am learning python from PW')"
   ]
  },
  {
   "cell_type": "code",
   "execution_count": 4,
   "id": "05b6d442-c463-4e09-bc48-8bb63ae791d5",
   "metadata": {},
   "outputs": [],
   "source": [
    "'''A variable is essentially a named location in the computer's memory where you can store data. \n",
    "You can assign values to variables and retrieve those values later in your code. It can alaso be different tyoes \n",
    "such as int = numbers, str = alaphabets, float = decimal, \n",
    "complex numbers = putting j value and bollian = True/False'''\n",
    "\n",
    "a = 123\n",
    "\n",
    "l4 = \"ankit\"\n",
    "\n",
    "l = 23.56\n",
    "\n",
    "l1 = 45+7j\n",
    "\n",
    "l2 = True"
   ]
  },
  {
   "cell_type": "code",
   "execution_count": 5,
   "id": "06616ad0-9090-42a4-8237-e487b96d09c8",
   "metadata": {},
   "outputs": [
    {
     "data": {
      "text/plain": [
       "123"
      ]
     },
     "execution_count": 5,
     "metadata": {},
     "output_type": "execute_result"
    }
   ],
   "source": [
    "a"
   ]
  },
  {
   "cell_type": "code",
   "execution_count": 9,
   "id": "f8e440ee-515b-46df-97cf-fc3acafbae39",
   "metadata": {},
   "outputs": [],
   "source": [
    "l4 = 'ankit'"
   ]
  },
  {
   "cell_type": "code",
   "execution_count": 10,
   "id": "055b2fa4-9b67-4b1b-b279-7a31129e3cd6",
   "metadata": {},
   "outputs": [
    {
     "data": {
      "text/plain": [
       "'ankit'"
      ]
     },
     "execution_count": 10,
     "metadata": {},
     "output_type": "execute_result"
    }
   ],
   "source": [
    "l4"
   ]
  },
  {
   "cell_type": "code",
   "execution_count": 13,
   "id": "9c2ec027-91fd-480f-9064-ab917578df0b",
   "metadata": {},
   "outputs": [],
   "source": [
    "#Q3. How do you convert one data type to another in Python?\n",
    "\n",
    "l5 = ('ankittaa')"
   ]
  },
  {
   "cell_type": "code",
   "execution_count": 14,
   "id": "909aabde-c6b5-45ee-a919-77b80530cf2f",
   "metadata": {},
   "outputs": [
    {
     "name": "stdout",
     "output_type": "stream",
     "text": [
      "ankittaa\n"
     ]
    }
   ],
   "source": [
    "print(l5)"
   ]
  },
  {
   "cell_type": "code",
   "execution_count": 15,
   "id": "7e2d13ae-b42e-4ec0-85a1-308b8958ed2a",
   "metadata": {},
   "outputs": [],
   "source": [
    "l6 = 23.67"
   ]
  },
  {
   "cell_type": "code",
   "execution_count": 16,
   "id": "5616612a-b85a-43f5-a159-8abd0110aa45",
   "metadata": {},
   "outputs": [
    {
     "name": "stdout",
     "output_type": "stream",
     "text": [
      "23.67\n"
     ]
    }
   ],
   "source": [
    "print(l6)"
   ]
  },
  {
   "cell_type": "code",
   "execution_count": 17,
   "id": "f223da69-7419-4fd6-bc88-3e57d62f0b21",
   "metadata": {},
   "outputs": [],
   "source": [
    "l7 = 34+67j"
   ]
  },
  {
   "cell_type": "code",
   "execution_count": 20,
   "id": "62b834d5-00f0-4fd9-a64b-981196b88b29",
   "metadata": {},
   "outputs": [
    {
     "name": "stdout",
     "output_type": "stream",
     "text": [
      "(34+67j)\n"
     ]
    }
   ],
   "source": [
    "print(l7)"
   ]
  },
  {
   "cell_type": "code",
   "execution_count": 29,
   "id": "316adf00-c1b8-48e0-98cb-fb6572914472",
   "metadata": {},
   "outputs": [
    {
     "data": {
      "text/plain": [
       "False"
      ]
     },
     "execution_count": 29,
     "metadata": {},
     "output_type": "execute_result"
    }
   ],
   "source": [
    "8 == (1)"
   ]
  },
  {
   "cell_type": "code",
   "execution_count": 30,
   "id": "ef6b9595-49d6-4aa8-8069-18ae3eea8468",
   "metadata": {},
   "outputs": [
    {
     "data": {
      "text/plain": [
       "False"
      ]
     },
     "execution_count": 30,
     "metadata": {},
     "output_type": "execute_result"
    }
   ],
   "source": [
    "9 == (0)"
   ]
  },
  {
   "cell_type": "code",
   "execution_count": 31,
   "id": "b61581ab-e93b-4e95-8fea-a2933cd68a20",
   "metadata": {},
   "outputs": [
    {
     "data": {
      "text/plain": [
       "False"
      ]
     },
     "execution_count": 31,
     "metadata": {},
     "output_type": "execute_result"
    }
   ],
   "source": [
    "10 == (23)"
   ]
  },
  {
   "cell_type": "code",
   "execution_count": 32,
   "id": "99013fcd-4579-4e60-a779-50df9a1f8dc8",
   "metadata": {},
   "outputs": [
    {
     "data": {
      "text/plain": [
       "int"
      ]
     },
     "execution_count": 32,
     "metadata": {},
     "output_type": "execute_result"
    }
   ],
   "source": [
    "type(10)"
   ]
  },
  {
   "cell_type": "code",
   "execution_count": 33,
   "id": "476416e4-3856-4709-b509-1258a1569596",
   "metadata": {},
   "outputs": [],
   "source": [
    "my_list = [1, 2, 3, 4, 5]"
   ]
  },
  {
   "cell_type": "code",
   "execution_count": 44,
   "id": "f9387c5d-309b-4a50-9bf5-19b58bc4c828",
   "metadata": {},
   "outputs": [],
   "source": [
    "l8 = my_list[1:3]"
   ]
  },
  {
   "cell_type": "code",
   "execution_count": 45,
   "id": "27878600-4d13-438d-b3b2-d88f7008aa5f",
   "metadata": {},
   "outputs": [
    {
     "data": {
      "text/plain": [
       "[2, 3]"
      ]
     },
     "execution_count": 45,
     "metadata": {},
     "output_type": "execute_result"
    }
   ],
   "source": [
    "l8"
   ]
  },
  {
   "cell_type": "code",
   "execution_count": 46,
   "id": "cc6da176-2782-4a6f-bf78-dd360c95bb6f",
   "metadata": {},
   "outputs": [
    {
     "name": "stdout",
     "output_type": "stream",
     "text": [
      "Object `Python` not found.\n"
     ]
    }
   ],
   "source": [
    "Q6. What is a complex number in mathematics, and how is it represented in Python?\n",
    "\n",
    "#In mathematics, a complex number is a number that consists of both a real part and an \n",
    "#imaginary part. It is represented in the form a + bi, where a represents the real part,\n",
    "#b represents the imaginary part, and i is the imaginary unit (√(-1)). "
   ]
  },
  {
   "cell_type": "code",
   "execution_count": 47,
   "id": "51c0c2b7-c037-4cc2-bb18-382f49c151a6",
   "metadata": {},
   "outputs": [],
   "source": [
    "l9 = complex(2,3)"
   ]
  },
  {
   "cell_type": "code",
   "execution_count": 48,
   "id": "e2fd4e42-b55f-4434-a87a-c80ca06cbee0",
   "metadata": {},
   "outputs": [
    {
     "name": "stdout",
     "output_type": "stream",
     "text": [
      "(2+3j)\n"
     ]
    }
   ],
   "source": [
    "print(l9)"
   ]
  },
  {
   "cell_type": "code",
   "execution_count": null,
   "id": "4693b16f-1cfd-4d4b-9974-40170d9be8d2",
   "metadata": {},
   "outputs": [],
   "source": [
    "# Here in the above line 2 is the real part and 3j is the imagenary part. \n",
    "# In Python complex numbers are denoated by (j). "
   ]
  },
  {
   "cell_type": "code",
   "execution_count": null,
   "id": "946badbb-eca6-4d9f-90a7-3d9abeb47114",
   "metadata": {},
   "outputs": [],
   "source": []
  },
  {
   "cell_type": "code",
   "execution_count": 58,
   "id": "03c0aabf-7a4c-46e5-b368-db6ecfdba4f3",
   "metadata": {},
   "outputs": [],
   "source": [
    "l10 = complex(35,45)"
   ]
  },
  {
   "cell_type": "code",
   "execution_count": 59,
   "id": "2f2b9511-bd16-49bd-9936-f237dd50d222",
   "metadata": {},
   "outputs": [
    {
     "name": "stdout",
     "output_type": "stream",
     "text": [
      "(35+45j)\n"
     ]
    }
   ],
   "source": [
    "print(l10)"
   ]
  },
  {
   "cell_type": "code",
   "execution_count": 60,
   "id": "d59d8b90-f18f-4042-a017-3e8949ac1151",
   "metadata": {},
   "outputs": [
    {
     "name": "stdout",
     "output_type": "stream",
     "text": [
      "Object `Python` not found.\n"
     ]
    }
   ],
   "source": [
    "Q7. What is the correct way to declare a variable named age and assign the value 25 to it?\n",
    "\n",
    "\n",
    "age = 25"
   ]
  },
  {
   "cell_type": "code",
   "execution_count": 61,
   "id": "17d7a1e6-af79-47e5-9996-d8982c45ab2c",
   "metadata": {},
   "outputs": [],
   "source": [
    "age = 25"
   ]
  },
  {
   "cell_type": "code",
   "execution_count": 62,
   "id": "c02696b3-cff1-4539-8230-c5bf06be0bf7",
   "metadata": {},
   "outputs": [
    {
     "name": "stdout",
     "output_type": "stream",
     "text": [
      "25\n"
     ]
    }
   ],
   "source": [
    "print(age)"
   ]
  },
  {
   "cell_type": "code",
   "execution_count": null,
   "id": "ed67af02-cd91-498d-8b94-176135989f17",
   "metadata": {},
   "outputs": [],
   "source": [
    "Q8. Declare a variable named price and assign the value 9.99 to it. What data type does this variable \n",
    "belong to?"
   ]
  },
  {
   "cell_type": "code",
   "execution_count": 63,
   "id": "738b3270-e575-4ef0-89db-2e0a3a5704e3",
   "metadata": {},
   "outputs": [],
   "source": [
    "price = 9.99"
   ]
  },
  {
   "cell_type": "code",
   "execution_count": 64,
   "id": "f04a6fcc-5632-4bf1-94a1-843fe502fc64",
   "metadata": {},
   "outputs": [
    {
     "name": "stdout",
     "output_type": "stream",
     "text": [
      "9.99\n"
     ]
    }
   ],
   "source": [
    "print(price)"
   ]
  },
  {
   "cell_type": "code",
   "execution_count": 65,
   "id": "8a01a012-be08-44c6-a338-1e4e94eff582",
   "metadata": {},
   "outputs": [
    {
     "data": {
      "text/plain": [
       "float"
      ]
     },
     "execution_count": 65,
     "metadata": {},
     "output_type": "execute_result"
    }
   ],
   "source": [
    "type(price)"
   ]
  },
  {
   "cell_type": "code",
   "execution_count": null,
   "id": "de9c4c59-16f8-491d-9a8b-93ba7daefdf1",
   "metadata": {},
   "outputs": [],
   "source": [
    "Q9. Create a variable named name and assign your full name to it as a string. How would you print the \n",
    "value of this variable?"
   ]
  },
  {
   "cell_type": "code",
   "execution_count": 66,
   "id": "6c19585b-d96d-4316-87d1-64db449737f4",
   "metadata": {},
   "outputs": [],
   "source": [
    "name = ('ankit pandey')"
   ]
  },
  {
   "cell_type": "code",
   "execution_count": 67,
   "id": "c0f4a804-69e5-41c0-8b00-2b19c6b47e11",
   "metadata": {},
   "outputs": [
    {
     "name": "stdout",
     "output_type": "stream",
     "text": [
      "ankit pandey\n"
     ]
    }
   ],
   "source": [
    "print(name)"
   ]
  },
  {
   "cell_type": "code",
   "execution_count": null,
   "id": "4b855060-2832-416c-a0c5-1a082a97d882",
   "metadata": {},
   "outputs": [],
   "source": [
    "Q10. Given the string \"Hello, World!\", extract the substring \"World\"."
   ]
  },
  {
   "cell_type": "code",
   "execution_count": 68,
   "id": "65e733be-82af-44bf-aa0b-48e4bd68fb0f",
   "metadata": {},
   "outputs": [],
   "source": [
    "l12 = (\"Hello, World!\")"
   ]
  },
  {
   "cell_type": "code",
   "execution_count": 75,
   "id": "e89ba71e-73d5-4b89-a6a3-71b8ebd2ec45",
   "metadata": {},
   "outputs": [],
   "source": [
    "slice = l12[6:12]"
   ]
  },
  {
   "cell_type": "code",
   "execution_count": 76,
   "id": "8b4b9cf2-886b-4c06-8b16-949b354bd7a6",
   "metadata": {},
   "outputs": [
    {
     "name": "stdout",
     "output_type": "stream",
     "text": [
      "World\n"
     ]
    }
   ],
   "source": [
    "print(slice)"
   ]
  },
  {
   "cell_type": "code",
   "execution_count": 77,
   "id": "9783c279-ec0f-4da2-be4d-4540c298f711",
   "metadata": {},
   "outputs": [],
   "source": [
    "l13 = (\"Hey Ankit Pandey, How are you?\")"
   ]
  },
  {
   "cell_type": "code",
   "execution_count": 82,
   "id": "0bce9432-812a-4cc9-83cf-99595c2b6788",
   "metadata": {},
   "outputs": [],
   "source": [
    "slice = l13[18:30]"
   ]
  },
  {
   "cell_type": "code",
   "execution_count": 83,
   "id": "306a9604-6f09-4a40-b205-c1a5eb7adde6",
   "metadata": {},
   "outputs": [
    {
     "name": "stdout",
     "output_type": "stream",
     "text": [
      "How are you?\n"
     ]
    }
   ],
   "source": [
    "print(slice)"
   ]
  },
  {
   "cell_type": "code",
   "execution_count": null,
   "id": "c8002564-da56-4b51-8137-206d61e70047",
   "metadata": {},
   "outputs": [],
   "source": [
    "Q11. Create a variable named \"is_student\" and assign it a boolean value indicating whether you are \n",
    "currently a student or not?"
   ]
  },
  {
   "cell_type": "code",
   "execution_count": 86,
   "id": "c8bc0f39-8b94-4824-b56a-7d2644c183d1",
   "metadata": {},
   "outputs": [
    {
     "data": {
      "text/plain": [
       "True"
      ]
     },
     "execution_count": 86,
     "metadata": {},
     "output_type": "execute_result"
    }
   ],
   "source": [
    "is_student == (11)"
   ]
  },
  {
   "cell_type": "code",
   "execution_count": 87,
   "id": "068c8adf-490f-4d2e-9764-7bff9c495dc6",
   "metadata": {},
   "outputs": [
    {
     "data": {
      "text/plain": [
       "False"
      ]
     },
     "execution_count": 87,
     "metadata": {},
     "output_type": "execute_result"
    }
   ],
   "source": [
    "is_student == (12)"
   ]
  },
  {
   "cell_type": "code",
   "execution_count": 88,
   "id": "2e4b440f-35e9-42cd-a854-7cd1878ac78c",
   "metadata": {},
   "outputs": [
    {
     "data": {
      "text/plain": [
       "False"
      ]
     },
     "execution_count": 88,
     "metadata": {},
     "output_type": "execute_result"
    }
   ],
   "source": [
    "is_student == (13)"
   ]
  },
  {
   "cell_type": "code",
   "execution_count": 89,
   "id": "5aaa9401-f09e-46cc-8509-770f01affd87",
   "metadata": {},
   "outputs": [
    {
     "data": {
      "text/plain": [
       "False"
      ]
     },
     "execution_count": 89,
     "metadata": {},
     "output_type": "execute_result"
    }
   ],
   "source": [
    "is_student == (14)"
   ]
  },
  {
   "cell_type": "code",
   "execution_count": 90,
   "id": "044d0fbc-ed2b-462b-9f97-2d10caffe0cd",
   "metadata": {},
   "outputs": [
    {
     "data": {
      "text/plain": [
       "False"
      ]
     },
     "execution_count": 90,
     "metadata": {},
     "output_type": "execute_result"
    }
   ],
   "source": [
    "is_student == (15)"
   ]
  },
  {
   "cell_type": "code",
   "execution_count": null,
   "id": "bb3eb7e9-b3d2-43f5-85a3-eb453028e4b8",
   "metadata": {},
   "outputs": [],
   "source": []
  }
 ],
 "metadata": {
  "kernelspec": {
   "display_name": "Python 3 (ipykernel)",
   "language": "python",
   "name": "python3"
  },
  "language_info": {
   "codemirror_mode": {
    "name": "ipython",
    "version": 3
   },
   "file_extension": ".py",
   "mimetype": "text/x-python",
   "name": "python",
   "nbconvert_exporter": "python",
   "pygments_lexer": "ipython3",
   "version": "3.10.8"
  }
 },
 "nbformat": 4,
 "nbformat_minor": 5
}
